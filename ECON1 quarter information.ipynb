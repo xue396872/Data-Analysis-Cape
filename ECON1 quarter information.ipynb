{
 "cells": [
  {
   "cell_type": "code",
   "execution_count": null,
   "metadata": {},
   "outputs": [],
   "source": [
    "import pandas as pd\n",
    "import array\n",
    "import statistics"
   ]
  },
  {
   "cell_type": "code",
   "execution_count": 9,
   "metadata": {},
   "outputs": [],
   "source": [
    "# Define average of a list of number\n",
    "def Average (list) :\n",
    "    return sum (list) / len (list)"
   ]
  },
  {
   "cell_type": "code",
   "execution_count": 20,
   "metadata": {},
   "outputs": [
    {
     "name": "stdout",
     "output_type": "stream",
     "text": [
      "4.91\n"
     ]
    }
   ],
   "source": [
    "# Calculate fall quarter study hour\n",
    "studyHourFall =list\n",
    "studyHourFall = [4.57,5.33,4.5,5.42,4.95,4.91,4.82,5.46,5.48,4.33,4.63,4.53]\n",
    "avgStudyHourFall = Average (studyHourFall)\n",
    "# Printe the outcome\n",
    "print( round (avgStudyHourFall, 2) )"
   ]
  },
  {
   "cell_type": "code",
   "execution_count": 14,
   "metadata": {},
   "outputs": [
    {
     "name": "stdout",
     "output_type": "stream",
     "text": [
      "4.49\n"
     ]
    }
   ],
   "source": [
    "# Calculate winter quarter study hour\n",
    "studyHourWinter = list\n",
    "studyHourWinter = [4.85,4.46,4.87,4.36,4.23,4.72,4.36,4.74,4.43,4.57,4.05,4.48,4.23]\n",
    "avgStudyHourWinter = Average (studyHourWinter)\n",
    "# Printe the outcome\n",
    "print( round (avgStudyHourWinter, 2) )"
   ]
  },
  {
   "cell_type": "code",
   "execution_count": 16,
   "metadata": {},
   "outputs": [
    {
     "name": "stdout",
     "output_type": "stream",
     "text": [
      "4.24\n"
     ]
    }
   ],
   "source": [
    "# Calculate Spring quarter study hour\n",
    "studyHourSpring = list\n",
    "studyHourSpring = [4.16,4.11,4.66,3.85,4.18,4.45]\n",
    "avgStudyHourSpring = Average (studyHourSpring)\n",
    "# Printe the outcome\n",
    "print( round (avgStudyHourSpring, 2) )"
   ]
  },
  {
   "cell_type": "code",
   "execution_count": 22,
   "metadata": {},
   "outputs": [
    {
     "name": "stdout",
     "output_type": "stream",
     "text": [
      "94.0\n"
     ]
    }
   ],
   "source": [
    "# Calculate fall quarter average instuctor rate\n",
    "RecomInsFall =list\n",
    "RecomInsFall = [100,99.3,99.3,97.3,97.6,92.9,97.8,94.9,92.1,98.4,97.2,61.4]\n",
    "avgRecomInsFall = Average (RecomInsFall)\n",
    "# Printe the outcome\n",
    "print( round (avgRecomInsFall, 1) )"
   ]
  },
  {
   "cell_type": "code",
   "execution_count": 24,
   "metadata": {},
   "outputs": [
    {
     "name": "stdout",
     "output_type": "stream",
     "text": [
      "87.9\n"
     ]
    }
   ],
   "source": [
    "# Calculate winter quarter average instuctor rate\n",
    "RecomInsWinter =list\n",
    "RecomInsWinter = [98.4,87.1,97.8,96,89.6,72.2,85.2,83.7,84.9,83.8,75,92.5,96.7]\n",
    "avgRecomInsWinter = Average (RecomInsWinter)\n",
    "# Printe the outcome\n",
    "print( round (avgRecomInsWinter, 1) )"
   ]
  },
  {
   "cell_type": "code",
   "execution_count": 23,
   "metadata": {},
   "outputs": [
    {
     "name": "stdout",
     "output_type": "stream",
     "text": [
      "75.9\n"
     ]
    }
   ],
   "source": [
    "# Calculate spring quarter average instuctor rate\n",
    "RecomInsSpring =list\n",
    "RecomInsSpring = [96.1,97.7,46,52.1,92.7,70.8,75.9]\n",
    "avgRecomInsSpring = Average (RecomInsSpring)\n",
    "# Printe the outcome\n",
    "print( round (avgRecomInsSpring, 1) )"
   ]
  },
  {
   "cell_type": "code",
   "execution_count": 25,
   "metadata": {},
   "outputs": [
    {
     "name": "stdout",
     "output_type": "stream",
     "text": [
      "2.8\n"
     ]
    }
   ],
   "source": [
    "# Calculate fall quarter average GPA\n",
    "GPAFall =list\n",
    "GPAFall = [2.66,2.66,2.66,2.75,2.75,2.75,2.75,2.95,2.95,3.02,3.01,2.72]\n",
    "avgGPAFall = Average (GPAFall)\n",
    "# Printe the outcome\n",
    "print( round (avgGPAFall, 2) )"
   ]
  },
  {
   "cell_type": "code",
   "execution_count": 27,
   "metadata": {},
   "outputs": [
    {
     "name": "stdout",
     "output_type": "stream",
     "text": [
      "2.99\n"
     ]
    }
   ],
   "source": [
    "# Calculate winter quarter average GPA\n",
    "GPAWinter =list\n",
    "GPAWinter = [3.01,3.01,3.07,3.07,3.07,3.07,2.98,2.98,2.98,2.98,2.78,2.88,2.98]\n",
    "avgGPAWinter = Average (GPAWinter)\n",
    "# Printe the outcome\n",
    "print( round (avgGPAWinter, 2) )"
   ]
  },
  {
   "cell_type": "code",
   "execution_count": 26,
   "metadata": {},
   "outputs": [
    {
     "name": "stdout",
     "output_type": "stream",
     "text": [
      "2.8\n"
     ]
    }
   ],
   "source": [
    "# Calculate spring quarter average GPA\n",
    "GPASpring =list\n",
    "GPASpring = [3.03,2.92,2.55,2.55,3.03,2.75]\n",
    "avgGPASpring = Average (GPASpring)\n",
    "# Printe the outcome\n",
    "print( round (avgGPASpring, 2) )"
   ]
  }
 ],
 "metadata": {
  "celltoolbar": "编辑元数据",
  "kernelspec": {
   "display_name": "Python 3",
   "language": "python",
   "name": "python3"
  },
  "language_info": {
   "codemirror_mode": {
    "name": "ipython",
    "version": 3
   },
   "file_extension": ".py",
   "mimetype": "text/x-python",
   "name": "python",
   "nbconvert_exporter": "python",
   "pygments_lexer": "ipython3",
   "version": "3.7.2"
  }
 },
 "nbformat": 4,
 "nbformat_minor": 2
}
